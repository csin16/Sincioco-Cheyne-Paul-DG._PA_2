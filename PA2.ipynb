{
 "cells": [
  {
   "cell_type": "markdown",
   "id": "fc013614-cc13-49da-93b0-f5acc7f196ba",
   "metadata": {},
   "source": [
    "NORMALIZATION PROBLEM"
   ]
  },
  {
   "cell_type": "code",
   "execution_count": 70,
   "id": "17cfeb98-25e7-40c4-be15-abaab47e9836",
   "metadata": {},
   "outputs": [],
   "source": [
    "import numpy as np"
   ]
  },
  {
   "cell_type": "code",
   "execution_count": 71,
   "id": "93aec97a-48cf-4620-875d-79568786fe7d",
   "metadata": {},
   "outputs": [],
   "source": [
    "X = np.random.random((5,5)) #create a randomized 5x5 array\n",
    "Z = ((X - X.mean())/X.std()) #normalize each element in the array"
   ]
  },
  {
   "cell_type": "code",
   "execution_count": 72,
   "id": "0047d5cb-e879-467f-b50c-c7d2be102b3f",
   "metadata": {},
   "outputs": [],
   "source": [
    "np.save('X_normalized.npy',Z)"
   ]
  },
  {
   "cell_type": "code",
   "execution_count": 73,
   "id": "503b5b4d-5ba3-490b-ba8b-a083a4a1c2a8",
   "metadata": {},
   "outputs": [],
   "source": [
    "Y = np.load(\"X_normalized.npy\")"
   ]
  },
  {
   "cell_type": "code",
   "execution_count": 74,
   "id": "d9a072c5-f87a-402a-983f-c77412aeb40b",
   "metadata": {},
   "outputs": [
    {
     "name": "stdout",
     "output_type": "stream",
     "text": [
      "Normalized ndarray\n",
      "[[ 1.41005335 -0.08897024 -1.0309969  -1.42224665  1.44873434]\n",
      " [-0.09958732 -0.39470142  0.34509894 -0.9679413  -1.45209808]\n",
      " [-1.05395303  1.18788133  1.1170923  -0.04466767 -1.35884713]\n",
      " [ 0.36052772  0.8827151   1.67637207  0.20964787  1.17364124]\n",
      " [-0.63003899 -0.96751295 -0.96921319  1.11992254 -0.45091194]]\n"
     ]
    }
   ],
   "source": [
    "print (\"Normalized ndarray\")\n",
    "print (Y)"
   ]
  },
  {
   "cell_type": "markdown",
   "id": "de876b43-29ca-4b42-a67b-4a244d942b76",
   "metadata": {},
   "source": [
    "DIVISIBLE BY 3 PROBLEM"
   ]
  },
  {
   "cell_type": "code",
   "execution_count": 75,
   "id": "d3fe8721-96a0-42b7-a4df-94f041590a14",
   "metadata": {},
   "outputs": [
    {
     "name": "stdout",
     "output_type": "stream",
     "text": [
      "10x10 Squared Array\n",
      "[[    1     4     9    16    25    36    49    64    81   100]\n",
      " [  121   144   169   196   225   256   289   324   361   400]\n",
      " [  441   484   529   576   625   676   729   784   841   900]\n",
      " [  961  1024  1089  1156  1225  1296  1369  1444  1521  1600]\n",
      " [ 1681  1764  1849  1936  2025  2116  2209  2304  2401  2500]\n",
      " [ 2601  2704  2809  2916  3025  3136  3249  3364  3481  3600]\n",
      " [ 3721  3844  3969  4096  4225  4356  4489  4624  4761  4900]\n",
      " [ 5041  5184  5329  5476  5625  5776  5929  6084  6241  6400]\n",
      " [ 6561  6724  6889  7056  7225  7396  7569  7744  7921  8100]\n",
      " [ 8281  8464  8649  8836  9025  9216  9409  9604  9801 10000]]\n"
     ]
    }
   ],
   "source": [
    "i = 1\n",
    "A = [] #list for squared numbers\n",
    "B = [] #list for divisible numbers\n",
    "\n",
    "for i in range (1,101): #loop to get the square from 1 to 100\n",
    "    squared = i**2\n",
    "    A.append(squared) #store squared numbers into the square list\n",
    "    if i % 3 == 0: #condition to store a number into the divisible list\n",
    "        B.append(squared)\n",
    "        \n",
    "sq = np.array(A) #store the square list into sq array\n",
    "sq.resize(10,10) #resize the array into 10x10\n",
    "div = np.array(B) #store the divisible list into div array\n",
    "div.resize(3,11)\n",
    "\n",
    "print(\"10x10 Squared Array\")\n",
    "print(sq)"
   ]
  },
  {
   "cell_type": "code",
   "execution_count": 76,
   "id": "a878a895-79f0-4999-a8a0-d9790ff29ac0",
   "metadata": {},
   "outputs": [],
   "source": [
    "np.save('div_by_3.npy',div)"
   ]
  },
  {
   "cell_type": "code",
   "execution_count": 77,
   "id": "085e6b80-6109-4782-b715-096ec5c4531d",
   "metadata": {},
   "outputs": [],
   "source": [
    "C = np.load(\"div_by_3.npy\")"
   ]
  },
  {
   "cell_type": "code",
   "execution_count": 78,
   "id": "be48d17a-6fff-4cb6-9a8d-3424ec24bacc",
   "metadata": {},
   "outputs": [
    {
     "name": "stdout",
     "output_type": "stream",
     "text": [
      "Divisible by 3\n",
      "[[   9   36   81  144  225  324  441  576  729  900 1089]\n",
      " [1296 1521 1764 2025 2304 2601 2916 3249 3600 3969 4356]\n",
      " [4761 5184 5625 6084 6561 7056 7569 8100 8649 9216 9801]]\n"
     ]
    }
   ],
   "source": [
    "print (\"Divisible by 3\")\n",
    "print (C)"
   ]
  }
 ],
 "metadata": {
  "kernelspec": {
   "display_name": "Python 3 (ipykernel)",
   "language": "python",
   "name": "python3"
  },
  "language_info": {
   "codemirror_mode": {
    "name": "ipython",
    "version": 3
   },
   "file_extension": ".py",
   "mimetype": "text/x-python",
   "name": "python",
   "nbconvert_exporter": "python",
   "pygments_lexer": "ipython3",
   "version": "3.13.5"
  }
 },
 "nbformat": 4,
 "nbformat_minor": 5
}
